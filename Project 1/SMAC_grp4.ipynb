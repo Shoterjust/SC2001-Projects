{
  "nbformat": 4,
  "nbformat_minor": 0,
  "metadata": {
    "colab": {
      "provenance": [],
      "include_colab_link": true
    },
    "kernelspec": {
      "name": "python3",
      "display_name": "Python 3"
    },
    "language_info": {
      "name": "python"
    }
  },
  "cells": [
    {
      "cell_type": "markdown",
      "metadata": {
        "id": "view-in-github",
        "colab_type": "text"
      },
      "source": [
        "<a href=\"https://colab.research.google.com/github/Shoterjust/SC2001-Projects/blob/main/Project%201/SMAC_grp4.ipynb\" target=\"_parent\"><img src=\"https://colab.research.google.com/assets/colab-badge.svg\" alt=\"Open In Colab\"/></a>"
      ]
    },
    {
      "cell_type": "code",
      "source": [
        "import random"
      ],
      "metadata": {
        "id": "bKyA9r3nIbTz"
      },
      "execution_count": null,
      "outputs": []
    },
    {
      "cell_type": "markdown",
      "source": [
        "(a) algorithm implementation"
      ],
      "metadata": {
        "id": "p9ZmgbZ4IkJv"
      }
    },
    {
      "cell_type": "code",
      "execution_count": null,
      "metadata": {
        "id": "U6UNqPkSveZ5"
      },
      "outputs": [],
      "source": [
        "def insertion_sort(n):\n",
        "    for i in range(1, len(n)):\n",
        "        for j in range(i,0,-1):\n",
        "            if n[j] < n[j-1]:\n",
        "                n[j], n[j-1] = n[j-1], n[j]\n",
        "            else:\n",
        "                break\n",
        "    return n"
      ]
    },
    {
      "cell_type": "code",
      "source": [
        "def merge(left, right):\n",
        "    result = []\n",
        "    i = j = 0\n",
        "\n",
        "    while i < len(left) and j < len(right):\n",
        "        if left[i] <= right[i]:\n",
        "            result.append(left[i])\n",
        "            i += 1\n",
        "        else:\n",
        "            result.append(right[j])\n",
        "            j += 1\n",
        "        result.extend(left[i:])\n",
        "        result.extend(right[j:])\n",
        "    return result\n",
        "\n",
        "def merge_sort(n):\n",
        "    if len(n) <= 1:\n",
        "        return n\n",
        "    mid = len(n) // 2\n",
        "    left = merge_sort(n[:mid])\n",
        "    right = merge_sort(n[mid:])\n",
        "    return merge(left,right)"
      ],
      "metadata": {
        "id": "XZhDBX1qwfZP"
      },
      "execution_count": null,
      "outputs": []
    },
    {
      "cell_type": "code",
      "source": [
        "def hybrid_sort(n,S):\n",
        "    if len(n) <= S:\n",
        "        insertion_sort(n)\n",
        "        return\n",
        "    else:\n",
        "        mid = len(n) // 2\n",
        "        left = hybrid_sort(n[:mid],S)\n",
        "        right = hybrid_sort(n[mid:],S)\n",
        "    return merge(left,right)"
      ],
      "metadata": {
        "id": "qiNNH_hsINe8"
      },
      "execution_count": null,
      "outputs": []
    },
    {
      "cell_type": "markdown",
      "source": [
        "(b) Generate input data"
      ],
      "metadata": {
        "id": "FIHkUgauIq5u"
      }
    },
    {
      "cell_type": "code",
      "source": [
        "def random_array(n,seed,maximum):\n",
        "    rnd = random.Random(seed)\n",
        "    arr = [rnd.randint(1,maximum) for _ in range(n)]\n",
        "    return arr"
      ],
      "metadata": {
        "id": "p5Fy7v0gIfB9"
      },
      "execution_count": null,
      "outputs": []
    },
    {
      "cell_type": "markdown",
      "source": [
        "(c)"
      ],
      "metadata": {
        "id": "o9mn8lzHIxs_"
      }
    },
    {
      "cell_type": "code",
      "source": [
        "def main():\n",
        "    random_array(100,1,100)\n",
        "\n",
        "if __name__ == \"__main__\":\n",
        "    main()"
      ],
      "metadata": {
        "id": "y6LqFA6NI0Yo"
      },
      "execution_count": null,
      "outputs": []
    }
  ]
}