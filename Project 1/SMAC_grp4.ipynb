{
  "nbformat": 4,
  "nbformat_minor": 0,
  "metadata": {
    "colab": {
      "provenance": [],
      "include_colab_link": true
    },
    "kernelspec": {
      "name": "python3",
      "display_name": "Python 3"
    },
    "language_info": {
      "name": "python"
    }
  },
  "cells": [
    {
      "cell_type": "markdown",
      "metadata": {
        "id": "view-in-github",
        "colab_type": "text"
      },
      "source": [
        "<a href=\"https://colab.research.google.com/github/Shoterjust/SC2001-Projects/blob/main/Project%201/SMAC_grp4.ipynb\" target=\"_parent\"><img src=\"https://colab.research.google.com/assets/colab-badge.svg\" alt=\"Open In Colab\"/></a>"
      ]
    },
    {
      "cell_type": "code",
      "source": [
        "import random\n",
        "import matplotlib.pyplot as plt\n",
        "import time\n",
        "import math"
      ],
      "metadata": {
        "id": "bKyA9r3nIbTz"
      },
      "execution_count": null,
      "outputs": []
    },
    {
      "cell_type": "markdown",
      "source": [
        "(a) Algorithm implementation"
      ],
      "metadata": {
        "id": "p9ZmgbZ4IkJv"
      }
    },
    {
      "cell_type": "code",
      "source": [
        "class Counter():\n",
        "  def __init__(self):\n",
        "    self.c = 0\n",
        "  def add(self, k = 1):\n",
        "    self.c += k"
      ],
      "metadata": {
        "id": "yFaV9uajDgHN"
      },
      "execution_count": null,
      "outputs": []
    },
    {
      "cell_type": "code",
      "execution_count": null,
      "metadata": {
        "id": "U6UNqPkSveZ5"
      },
      "outputs": [],
      "source": [
        "def insertion_sort(n,cnt:Counter):\n",
        "    global COMPARISONS\n",
        "    for i in range(1, len(n)):\n",
        "        for j in range(i,0,-1):\n",
        "            cnt.add(1)\n",
        "            if n[j] < n[j-1]:\n",
        "                n[j], n[j-1] = n[j-1], n[j]\n",
        "            else:\n",
        "                break\n",
        "    return n"
      ]
    },
    {
      "cell_type": "code",
      "source": [
        "def merge(left, right,cnt:Counter):\n",
        "    result = []\n",
        "    i = j = 0\n",
        "\n",
        "    while i < len(left) and j < len(right):\n",
        "        cnt.add(1)\n",
        "        if left[i] <= right[j]:\n",
        "            result.append(left[i])\n",
        "            i += 1\n",
        "        else:\n",
        "            result.append(right[j])\n",
        "            j += 1\n",
        "    result.extend(left[i:])\n",
        "    result.extend(right[j:])\n",
        "    return result\n",
        "\n",
        "def merge_sort(n,cnt:Counter):\n",
        "    if len(n) <= 1:\n",
        "        return n\n",
        "    mid = len(n) // 2\n",
        "    left = merge_sort(n[:mid],cnt)\n",
        "    right = merge_sort(n[mid:],cnt)\n",
        "    return merge(left,right,cnt)"
      ],
      "metadata": {
        "id": "XZhDBX1qwfZP"
      },
      "execution_count": null,
      "outputs": []
    },
    {
      "cell_type": "code",
      "source": [
        "def hybrid_sort(n,S,cnt:Counter):\n",
        "    if len(n) <= S:\n",
        "        return insertion_sort(n,cnt)\n",
        "\n",
        "    else:\n",
        "        mid = len(n) // 2\n",
        "        left = hybrid_sort(n[:mid],S,cnt)\n",
        "        right = hybrid_sort(n[mid:],S,cnt)\n",
        "        return merge(left,right,cnt)"
      ],
      "metadata": {
        "id": "qiNNH_hsINe8"
      },
      "execution_count": null,
      "outputs": []
    },
    {
      "cell_type": "code",
      "source": [
        "# Example for part (a)\n",
        "def part_a():\n",
        "    cnt_h = Counter()\n",
        "    arr = [14, 40, 31, 28, 3, 15, 17, 51]\n",
        "    sorted_arr = hybrid_sort(arr,4, cnt_h)\n",
        "    print(sorted_arr)\n",
        "    print(cnt_h.c)"
      ],
      "metadata": {
        "id": "xd9UCLDQZUPE"
      },
      "execution_count": null,
      "outputs": []
    },
    {
      "cell_type": "code",
      "source": [
        "part_a()"
      ],
      "metadata": {
        "id": "ar04HVVur2I-",
        "colab": {
          "base_uri": "https://localhost:8080/"
        },
        "outputId": "7c6a6680-bd65-48d7-a8ab-2e589940764c"
      },
      "execution_count": null,
      "outputs": [
        {
          "output_type": "stream",
          "name": "stdout",
          "text": [
            "[3, 14, 15, 17, 28, 31, 40, 51]\n",
            "16\n"
          ]
        }
      ]
    },
    {
      "cell_type": "markdown",
      "source": [
        "(b) Generate input data"
      ],
      "metadata": {
        "id": "FIHkUgauIq5u"
      }
    },
    {
      "cell_type": "code",
      "source": [
        "def random_array(n,seed,maximum):\n",
        "    rnd = random.Random(seed)\n",
        "    arr = [rnd.randint(1, maximum) for _ in range(n)]\n",
        "    return arr"
      ],
      "metadata": {
        "id": "p5Fy7v0gIfB9"
      },
      "execution_count": null,
      "outputs": []
    },
    {
      "cell_type": "code",
      "source": [
        "def part_b():\n",
        "    global COMPARISONS\n",
        "    COMPARISONS = 0\n",
        "    sizes = [1000, 10000, 100000, 1000000]               # let sizes (chosen betwwen 1000 to 10 million) be 1000, 10000, 100000, 1000000, 10000000\n",
        "    seed = 10                                                      # random seed chosen to make dataset reproducible\n",
        "    x = 10000000                                                   # let x (largest number) be 10 million\n",
        "\n",
        "    for size in sizes:\n",
        "        arr = random_array(size, seed, x)\n",
        "        print(f\"Generated array of size {size}, last 5 integers: {arr[:5]}\")"
      ],
      "metadata": {
        "id": "qWawqPUyeSYg"
      },
      "execution_count": null,
      "outputs": []
    },
    {
      "cell_type": "code",
      "source": [
        "# Example for part (b)\n",
        "part_b()"
      ],
      "metadata": {
        "id": "RHLgdBOervuy"
      },
      "execution_count": null,
      "outputs": []
    },
    {
      "cell_type": "markdown",
      "source": [
        "(c) Analyze time complexity"
      ],
      "metadata": {
        "id": "o9mn8lzHIxs_"
      }
    },
    {
      "cell_type": "code",
      "source": [
        "def part_c_i():\n",
        "    global COMPARISONS\n",
        "    COMPARISONS = 0\n",
        "    sizes = [1000, 10000, 100000, 1000000]\n",
        "    seed = 10\n",
        "    com_arr = []\n",
        "    x = 10000000\n",
        "\n",
        "    for size in sizes:\n",
        "        cnt_h = Counter()\n",
        "        arr = random_array(size, seed, x)\n",
        "        hybrid_sort(arr,20,cnt_h)                          # fix S = 20\n",
        "        com_arr.append(cnt_h.c)\n",
        "\n",
        "    #plt.gcf().axes[0].yaxis.get_major_formatter().set_scientific(False)\n",
        "    plt.xlabel(\"n values\")\n",
        "    plt.ylabel(\"number of comparisons\")\n",
        "    plt.plot(sizes, com_arr)\n"
      ],
      "metadata": {
        "id": "qgq7wZUpsJuw"
      },
      "execution_count": null,
      "outputs": []
    },
    {
      "cell_type": "code",
      "source": [
        "part_c_i()"
      ],
      "metadata": {
        "id": "BIqS_Oxefth5",
        "colab": {
          "base_uri": "https://localhost:8080/",
          "height": 465
        },
        "outputId": "4d0484f0-6be0-40d8-e1c5-fc605b79f230"
      },
      "execution_count": null,
      "outputs": [
        {
          "output_type": "display_data",
          "data": {
            "text/plain": [
              "<Figure size 640x480 with 1 Axes>"
            ],
            "image/png": "[encoded data removed]"
          },
          "metadata": {}
        }
      ]
    },
    {
      "cell_type": "code",
      "source": [
        "def part_c_ii(): #fix n, vary S\n",
        "  Ss = [2, 4, 8, 12, 16, 24, 32, 48, 64, 96, 128, 192, 256]\n",
        "  comp_arr = []\n",
        "  for S in Ss:\n",
        "    cnt_h = Counter()\n",
        "    arr = random_array(1000,10,1000)\n",
        "    hybrid_sort(arr,S,cnt_h)\n",
        "    comp_arr.append(cnt_h.c)\n",
        "\n",
        "  plt.xlabel(\"S values\")\n",
        "  plt.ylabel(\"number of comparisons\")\n",
        "  plt.plot(Ss, comp_arr)"
      ],
      "metadata": {
        "id": "cAq_-VBmGI_T"
      },
      "execution_count": null,
      "outputs": []
    },
    {
      "cell_type": "code",
      "source": [
        "part_c_ii()"
      ],
      "metadata": {
        "colab": {
          "base_uri": "https://localhost:8080/",
          "height": 449
        },
        "id": "xMxBcdjWHzuU",
        "outputId": "d0759fa2-44c9-4701-f493-376256bda39b"
      },
      "execution_count": null,
      "outputs": [
        {
          "output_type": "display_data",
          "data": {
            "text/plain": [
              "<Figure size 640x480 with 1 Axes>"
            ],
            "image/png": "[encoded data removed]"
          },
          "metadata": {}
        }
      ]
    },
    {
      "cell_type": "code",
      "source": [
        "def part_c_iii():  # Pick S that minimizes comparisons AND check runtime\n",
        "    import math\n",
        "\n",
        "    # ---- config (keep n modest so it runs fast in Python) ----\n",
        "    n = 200_000            # fixed n for evaluation (adjust if needed)\n",
        "    seed = 10              # same style as your part_b\n",
        "    x_max = 10_000_000\n",
        "    TRIALS = 1             # increase to smooth noise (slower)\n",
        "    S_candidates = [i for i in range(1,101)]\n",
        "\n",
        "    # Build trial base arrays first so every S sees identical inputs\n",
        "    bases = [random_array(n, seed + t, x_max) for t in range(TRIALS)]\n",
        "\n",
        "    comps, times = [], []\n",
        "\n",
        "    for S in S_candidates:\n",
        "        total_comp = 0\n",
        "        total_time = 0.0\n",
        "        for base in bases:\n",
        "            cnt = Counter()\n",
        "            arr = base.copy()\n",
        "            t0 = time.perf_counter()\n",
        "            hybrid_sort(arr, S, cnt)\n",
        "            t1 = time.perf_counter()\n",
        "            total_comp += cnt.c\n",
        "            total_time += (t1 - t0)\n",
        "        comps.append(total_comp / TRIALS)\n",
        "        times.append(total_time / TRIALS)\n",
        "        print(f\"S={S:>3} | comparisons={int(comps[-1])} | time={times[-1]:.6f}s\")\n",
        "\n",
        "    # Argmin by comparisons\n",
        "    best_idx_comp = min(range(len(S_candidates)), key=lambda i: comps[i])\n",
        "    best_S_comp = S_candidates[best_idx_comp]\n",
        "\n",
        "    # Argmin by time\n",
        "    best_idx_time = min(range(len(S_candidates)), key=lambda i: times[i])\n",
        "    best_S_time = S_candidates[best_idx_time]\n",
        "\n",
        "    print(\"\\n(c)(iii) Results:\")\n",
        "    print(f\"Comparisons-optimal S (empirical): {best_S_comp}\")\n",
        "    print(f\"Time-optimal S (empirical)       : {best_S_time}\")\n",
        "\n",
        "    # Theory reference for comparisons: S* = 4 / ln 2 ≈ 5.77 → ~6\n",
        "    s_theory = round(4 / math.log(2))\n",
        "    print(f\"Theoretical S* (comparisons)     : {s_theory}  (≈ 4/ln 2)\")\n"
      ],
      "metadata": {
        "id": "yQZGzK3uQO9I"
      },
      "execution_count": null,
      "outputs": []
    },
    {
      "cell_type": "code",
      "source": [
        "part_c_iii()"
      ],
      "metadata": {
        "colab": {
          "base_uri": "https://localhost:8080/"
        },
        "id": "1PDuhraoTl__",
        "outputId": "b7dcb25b-2567-47de-a8ee-315857735ce0"
      },
      "execution_count": null,
      "outputs": [
        {
          "output_type": "stream",
          "name": "stdout",
          "text": [
            "S=  1 | comparisons=3272989 | time=1.105176s\n",
            "S=  2 | comparisons=3272989 | time=1.051924s\n",
            "S=  3 | comparisons=3272916 | time=0.985360s\n",
            "S=  4 | comparisons=3273805 | time=1.487134s\n",
            "S=  5 | comparisons=3273805 | time=1.605390s\n",
            "S=  6 | comparisons=3310036 | time=0.957948s\n",
            "S=  7 | comparisons=3316646 | time=0.966750s\n",
            "S=  8 | comparisons=3316646 | time=0.941761s\n",
            "S=  9 | comparisons=3316646 | time=0.950263s\n",
            "S= 10 | comparisons=3316646 | time=0.950200s\n",
            "S= 11 | comparisons=3316646 | time=0.950354s\n",
            "S= 12 | comparisons=3439993 | time=0.957026s\n",
            "S= 13 | comparisons=3479368 | time=0.950753s\n",
            "S= 14 | comparisons=3479368 | time=0.950264s\n",
            "S= 15 | comparisons=3479368 | time=0.963165s\n",
            "S= 16 | comparisons=3479368 | time=1.525977s\n",
            "S= 17 | comparisons=3479368 | time=1.527217s\n",
            "S= 18 | comparisons=3479368 | time=0.946446s\n",
            "S= 19 | comparisons=3479368 | time=0.956778s\n",
            "S= 20 | comparisons=3479368 | time=0.962377s\n",
            "S= 21 | comparisons=3479368 | time=0.933667s\n",
            "S= 22 | comparisons=3479368 | time=0.947354s\n",
            "S= 23 | comparisons=3479368 | time=0.944165s\n",
            "S= 24 | comparisons=3730854 | time=0.982949s\n",
            "S= 25 | comparisons=3925884 | time=1.001167s\n",
            "S= 26 | comparisons=3925884 | time=1.007017s\n",
            "S= 27 | comparisons=3925884 | time=1.020659s\n",
            "S= 28 | comparisons=3925884 | time=1.876450s\n",
            "S= 29 | comparisons=3925884 | time=1.353492s\n",
            "S= 30 | comparisons=3925884 | time=1.008656s\n",
            "S= 31 | comparisons=3925884 | time=1.005276s\n",
            "S= 32 | comparisons=3925884 | time=0.992345s\n",
            "S= 33 | comparisons=3925884 | time=1.002214s\n",
            "S= 34 | comparisons=3925884 | time=1.239216s\n",
            "S= 35 | comparisons=3925884 | time=1.002816s\n",
            "S= 36 | comparisons=3925884 | time=1.001734s\n",
            "S= 37 | comparisons=3925884 | time=1.000117s\n",
            "S= 38 | comparisons=3925884 | time=0.997657s\n",
            "S= 39 | comparisons=3925884 | time=1.706913s\n",
            "S= 40 | comparisons=3925884 | time=1.513440s\n",
            "S= 41 | comparisons=3925884 | time=0.995455s\n",
            "S= 42 | comparisons=3925884 | time=1.008168s\n",
            "S= 43 | comparisons=3925884 | time=1.009614s\n",
            "S= 44 | comparisons=3925884 | time=1.009251s\n",
            "S= 45 | comparisons=3925884 | time=1.001034s\n",
            "S= 46 | comparisons=3925884 | time=0.997889s\n",
            "S= 47 | comparisons=3925884 | time=1.011584s\n",
            "S= 48 | comparisons=4098431 | time=1.044558s\n",
            "S= 49 | comparisons=4968874 | time=1.164686s\n",
            "S= 50 | comparisons=4968874 | time=1.862366s\n",
            "S= 51 | comparisons=4968874 | time=1.665983s\n",
            "S= 52 | comparisons=4968874 | time=1.271079s\n",
            "S= 53 | comparisons=4968874 | time=1.178456s\n",
            "S= 54 | comparisons=4968874 | time=1.185686s\n",
            "S= 55 | comparisons=4968874 | time=1.175324s\n",
            "S= 56 | comparisons=4968874 | time=1.168601s\n",
            "S= 57 | comparisons=4968874 | time=1.164977s\n",
            "S= 58 | comparisons=4968874 | time=1.165960s\n",
            "S= 59 | comparisons=4968874 | time=1.219477s\n",
            "S= 60 | comparisons=4968874 | time=2.230084s\n",
            "S= 61 | comparisons=4968874 | time=1.341832s\n",
            "S= 62 | comparisons=4968874 | time=1.174489s\n",
            "S= 63 | comparisons=4968874 | time=1.171383s\n",
            "S= 64 | comparisons=4968874 | time=1.164261s\n",
            "S= 65 | comparisons=4968874 | time=1.164487s\n",
            "S= 66 | comparisons=4968874 | time=1.167377s\n",
            "S= 67 | comparisons=4968874 | time=1.191372s\n",
            "S= 68 | comparisons=4968874 | time=1.181684s\n",
            "S= 69 | comparisons=4968874 | time=1.452996s\n",
            "S= 70 | comparisons=4968874 | time=2.125115s\n",
            "S= 71 | comparisons=4968874 | time=1.186960s\n",
            "S= 72 | comparisons=4968874 | time=1.170921s\n",
            "S= 73 | comparisons=4968874 | time=1.182197s\n",
            "S= 74 | comparisons=4968874 | time=1.180894s\n",
            "S= 75 | comparisons=4968874 | time=1.190145s\n",
            "S= 76 | comparisons=4968874 | time=1.200396s\n",
            "S= 77 | comparisons=4968874 | time=1.221883s\n",
            "S= 78 | comparisons=4968874 | time=1.177036s\n",
            "S= 79 | comparisons=4968874 | time=1.887464s\n",
            "S= 80 | comparisons=4968874 | time=1.662907s\n",
            "S= 81 | comparisons=4968874 | time=1.163812s\n",
            "S= 82 | comparisons=4968874 | time=1.167080s\n",
            "S= 83 | comparisons=4968874 | time=1.168629s\n",
            "S= 84 | comparisons=4968874 | time=1.167561s\n",
            "S= 85 | comparisons=4968874 | time=1.167344s\n",
            "S= 86 | comparisons=4968874 | time=1.191053s\n",
            "S= 87 | comparisons=4968874 | time=1.185164s\n",
            "S= 88 | comparisons=4968874 | time=1.216518s\n",
            "S= 89 | comparisons=4968874 | time=2.173305s\n",
            "S= 90 | comparisons=4968874 | time=1.351709s\n",
            "S= 91 | comparisons=4968874 | time=1.179562s\n",
            "S= 92 | comparisons=4968874 | time=1.170597s\n",
            "S= 93 | comparisons=4968874 | time=1.175768s\n",
            "S= 94 | comparisons=4968874 | time=1.234696s\n",
            "S= 95 | comparisons=4968874 | time=1.167364s\n",
            "S= 96 | comparisons=4968874 | time=1.172741s\n",
            "S= 97 | comparisons=5728442 | time=1.295557s\n",
            "S= 98 | comparisons=7217018 | time=2.424369s\n",
            "S= 99 | comparisons=7217018 | time=1.966778s\n",
            "S=100 | comparisons=7217018 | time=1.592814s\n",
            "\n",
            "(c)(iii) Results:\n",
            "Comparisons-optimal S (empirical): 3\n",
            "Time-optimal S (empirical)       : 21\n",
            "Theoretical S* (comparisons)     : 6  (≈ 4/ln 2)\n"
          ]
        }
      ]
    },
    {
      "cell_type": "markdown",
      "source": [
        "(d) Compare with original Mergesort"
      ],
      "metadata": {
        "id": "eszHdkGgfojo"
      }
    },
    {
      "cell_type": "code",
      "source": [
        "def part_d():\n",
        "  S = 9\n",
        "  arr = random_array(10000000,10,1000)\n",
        "  cnt_m = Counter()\n",
        "  cnt_h = Counter()\n",
        "\n",
        "  merge_startTime = time.time()\n",
        "  merge_sort(arr.copy(),cnt_m)\n",
        "  merge_endTime = time.time()\n",
        "  merge_runTime = merge_endTime - merge_startTime\n",
        "\n",
        "  hybrid_startTime = time.time()\n",
        "  hybrid_sort(arr.copy(),S,cnt_h)\n",
        "  hybrid_endTime = time.time()\n",
        "  hybrid_runTime = hybrid_endTime - hybrid_startTime\n",
        "\n",
        "\n",
        "  print(\"Number of key comparisons for Merge Sort: \" + str(cnt_m.c))\n",
        "  print(\"CPU time for Merge Sort: \" + str(merge_runTime))\n",
        "  print(\"Number of key comparisons for Hybrid Sort: \" + str(cnt_h.c))\n",
        "  print(\"CPU time for Hybrid Sort: \" + str(hybrid_runTime))"
      ],
      "metadata": {
        "id": "zZBgYySYfs-G"
      },
      "execution_count": null,
      "outputs": []
    },
    {
      "cell_type": "code",
      "source": [
        "part_d()"
      ],
      "metadata": {
        "colab": {
          "base_uri": "https://localhost:8080/"
        },
        "id": "onid8BTCKROS",
        "outputId": "0eb7bbe2-2d6a-46f8-83e1-aa1192e5c12e"
      },
      "execution_count": null,
      "outputs": [
        {
          "output_type": "stream",
          "name": "stdout",
          "text": [
            "Number of key comparisons for Merge Sort: 220041101\n",
            "CPU time for Merge Sort: 83.2165732383728\n",
            "Number of key comparisons for Hybrid Sort: 223086049\n",
            "CPU time for Hybrid Sort: 75.83593773841858\n"
          ]
        }
      ]
    }
  ]
}